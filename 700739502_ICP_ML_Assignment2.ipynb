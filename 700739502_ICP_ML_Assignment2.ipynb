{
 "cells": [
  {
   "cell_type": "markdown",
   "metadata": {
    "id": "IPxRTU80r7zZ"
   },
   "source": [
    "Question - 1)\n",
    "Use a python code to display the following star pattern using the for loop"
   ]
  },
  {
   "cell_type": "code",
   "execution_count": 12,
   "metadata": {
    "colab": {
     "base_uri": "https://localhost:8080/"
    },
    "id": "FuPgdgTXr3IB",
    "outputId": "c684dfb2-6b98-4753-922f-2f01cf5bb21e"
   },
   "outputs": [
    {
     "name": "stdout",
     "output_type": "stream",
     "text": [
      "* \r\n",
      "* * \r\n",
      "* * * \r\n",
      "* * * * \r\n",
      "* * * * * \r\n",
      "* * * * \r\n",
      "* * * \r\n",
      "* * \r\n",
      "* \r\n",
      "\r\n"
     ]
    }
   ],
   "source": [
    "rows = 5 #taking maximum no. of stars in the pattern as input\n",
    "for i in range(0, rows):   #initializing upper part of the pattern\n",
    "    for j in range(0, i + 1): \n",
    "        print(\"*\", end=' ') \n",
    "    print(\"\\r\")   #printing carriage return\n",
    "                           #initializing lower part of the pattern\n",
    "for i in range(rows, 0, -1): \n",
    "    for j in range(0, i - 1): \n",
    "        print(\"*\", end=' ') \n",
    "    print(\"\\r\")#printing carriage return"
   ]
  },
  {
   "cell_type": "markdown",
   "metadata": {
    "id": "63vQxzG8tzIa"
   },
   "source": [
    "Question - 2) \n",
    ". Use looping to output the elements from a provided list present at odd indexes.\n",
    "my_list = [10, 20, 30, 40, 50, 60, 70, 80, 90, 100]"
   ]
  },
  {
   "cell_type": "code",
   "execution_count": 13,
   "metadata": {
    "colab": {
     "base_uri": "https://localhost:8080/"
    },
    "id": "4FrfBq57t4rC",
    "outputId": "20e6bae2-bd13-4529-9f60-aa4da7a406e7"
   },
   "outputs": [
    {
     "name": "stdout",
     "output_type": "stream",
     "text": [
      "[20, 40, 60, 80, 100]\n"
     ]
    }
   ],
   "source": [
    "my_list = [10, 20, 30, 40, 50, 60, 70, 80, 90, 100] \n",
    "output_list = [] \n",
    "for i in range(0,len(my_list)): \n",
    "  if i%2 == 1: \n",
    "    output_list.append(my_list[i])#appending the elements of my_list with odd indexes to output_list\n",
    "print(output_list)"
   ]
  },
  {
   "cell_type": "markdown",
   "metadata": {
    "id": "BhSaGIamuOX5"
   },
   "source": [
    "Question - 3)\n",
    "Write a code that appends the type of elements from a given list.\n",
    "Input\n",
    " x = [23, ‘Python’, 23.98]\n",
    " Expected output\n",
    " [23, 'Python', 23.98]\n",
    " [<class 'int'>, <class 'str'>, <class 'float'>]"
   ]
  },
  {
   "cell_type": "code",
   "execution_count": 14,
   "metadata": {
    "colab": {
     "base_uri": "https://localhost:8080/"
    },
    "id": "y3NRSMX5uV1r",
    "outputId": "df71e680-cd4f-4182-c567-6d4987447cab"
   },
   "outputs": [
    {
     "name": "stdout",
     "output_type": "stream",
     "text": [
      "[23, 'Python', 23.98]\n",
      "[<class 'int'>, <class 'str'>, <class 'float'>]\n"
     ]
    }
   ],
   "source": [
    "x = [23, 'Python', 23.98] \n",
    "type_x = [] \n",
    "for i in range(0,len(x)): \n",
    "  type_x.append(type(x[i])) #appending the type of list x to the list type_x\n",
    "print(x)\n",
    "print(type_x)"
   ]
  },
  {
   "cell_type": "markdown",
   "metadata": {
    "id": "cjkgI6RNusIy"
   },
   "source": [
    "Question - 4)\n",
    "Write a function that takes a list and returns a new list with unique items of the first list.\n",
    "Sample List: [1,2,3,3,3,3,4,5]\n",
    "Unique List: [1, 2, 3, 4, 5]"
   ]
  },
  {
   "cell_type": "code",
   "execution_count": 15,
   "metadata": {
    "colab": {
     "base_uri": "https://localhost:8080/"
    },
    "id": "sv4tF-rWuyXv",
    "outputId": "6947af1a-6079-4e44-ef6b-552fa530661d"
   },
   "outputs": [
    {
     "name": "stdout",
     "output_type": "stream",
     "text": [
      "[1, 2, 3, 4, 5]\n"
     ]
    }
   ],
   "source": [
    "def unique_list(input): #defining the function to get unique list of elements\n",
    "  return (list(set(input))) #returns list without duplicate values as we used set\n",
    "input_list = [1,2,3,3,3,3,4,5] \n",
    "\n",
    "output_list = unique_list(input_list) \n",
    "print(output_list)"
   ]
  },
  {
   "cell_type": "markdown",
   "metadata": {
    "id": "qn8iJ9CcvH7Q"
   },
   "source": [
    "Question - 5)\n",
    "Write a function that accepts a string and calculate the number of upper-case letters and lower-case\n",
    "letters.\n",
    "Input String: 'The quick Brow Fox'\n",
    "Expected Output:\n",
    "No. of Upper-case characters: 3\n",
    "No. of Lower-case Characters: 12"
   ]
  },
  {
   "cell_type": "code",
   "execution_count": 16,
   "metadata": {
    "colab": {
     "base_uri": "https://localhost:8080/"
    },
    "id": "av20h9DnvRLR",
    "outputId": "ca02e53b-31fc-4359-cc9e-e9af9c000c75"
   },
   "outputs": [
    {
     "name": "stdout",
     "output_type": "stream",
     "text": [
      "No. of Upper-case characters:3 \n",
      "No. of Lower-case Characters:12\n"
     ]
    }
   ],
   "source": [
    "def char_counter(s): #defining the function to get character count\n",
    "  upper = 0 \n",
    "  lower = 0 \n",
    "  for i in s: \n",
    "    if i.islower(): \n",
    "      lower+= 1 \n",
    "    elif i.isupper():\n",
    "      upper+= 1  \n",
    "\n",
    "\n",
    "  print(\"No. of Upper-case characters:{} \\nNo. of Lower-case Characters:{}\".format(upper,lower)) #Displaying output in the required format\n",
    "input_string = 'The quick Brow Fox' #String Input\n",
    "\n",
    "char_counter(input_string) #Calling the function to get the desired output "
   ]
  },
  {
   "cell_type": "code",
   "execution_count": null,
   "metadata": {},
   "outputs": [],
   "source": []
  }
 ],
 "metadata": {
  "colab": {
   "provenance": []
  },
  "kernelspec": {
   "display_name": "Python 3 (ipykernel)",
   "language": "python",
   "name": "python3"
  },
  "language_info": {
   "codemirror_mode": {
    "name": "ipython",
    "version": 3
   },
   "file_extension": ".py",
   "mimetype": "text/x-python",
   "name": "python",
   "nbconvert_exporter": "python",
   "pygments_lexer": "ipython3",
   "version": "3.11.1"
  }
 },
 "nbformat": 4,
 "nbformat_minor": 1
}
